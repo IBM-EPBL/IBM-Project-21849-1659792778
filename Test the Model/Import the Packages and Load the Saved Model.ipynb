{
 "cells": [
  {
   "cell_type": "markdown",
   "metadata": {
    "id": "Br1M4E62_C3g"
   },
   "source": [
    "## Model Building"
   ]
  },
  {
   "cell_type": "markdown",
   "metadata": {
    "id": "J0mq0I6h_H5s"
   },
   "source": [
    "## Import The Required Model Building Libraries"
   ]
  },
  {
   "cell_type": "code",
   "execution_count": 1,
   "metadata": {
    "id": "HHq06ZY4_L1B"
   },
   "outputs": [],
   "source": [
    "#import imagedatagenerator\n",
    "from keras.preprocessing.image import ImageDataGenerator"
   ]
  },
  {
   "cell_type": "code",
   "execution_count": 2,
   "metadata": {
    "id": "0mWA2qhA_Qvq"
   },
   "outputs": [],
   "source": [
    "#training datagen\n",
    "train_datagen=ImageDataGenerator(rescale=1./255,shear_range=0.2,zoom_range=0.2,horizontal_flip=True)"
   ]
  },
  {
   "cell_type": "code",
   "execution_count": 3,
   "metadata": {
    "id": "uk1yhM69_YBY"
   },
   "outputs": [],
   "source": [
    "#testing datagen\n",
    "test_datagen=ImageDataGenerator(rescale=1./255)"
   ]
  },
  {
   "cell_type": "markdown",
   "metadata": {
    "id": "oNteva_t_cKZ"
   },
   "source": [
    "## Importing tensorflow"
   ]
  },
  {
   "cell_type": "code",
   "execution_count": 4,
   "metadata": {
    "id": "qQ0hfBIh_eh5"
   },
   "outputs": [],
   "source": [
    "import tensorflow as tf\n",
    "import os"
   ]
  },
  {
   "cell_type": "markdown",
   "metadata": {
    "id": "XBhGUHXm_r0I"
   },
   "source": [
    "## Initialize The Model"
   ]
  },
  {
   "cell_type": "code",
   "execution_count": 5,
   "metadata": {
    "id": "Q6skxROT_uWc"
   },
   "outputs": [],
   "source": [
    "#create model\n",
    "from keras.models import Sequential\n",
    "from keras.layers import Dense\n",
    "from keras.layers import Convolution2D\n",
    "from keras.layers import MaxPooling2D\n",
    "from keras.layers import Dropout\n",
    "from keras.layers import Flatten \n",
    "from tensorflow.keras.preprocessing.image import ImageDataGenerator"
   ]
  },
  {
   "cell_type": "code",
   "execution_count": 6,
   "metadata": {
    "id": "cWHmfB_4_17f"
   },
   "outputs": [],
   "source": [
    "import numpy as np\n",
    "import matplotlib.pyplot as plt #to view graph in colab itself\n",
    "import IPython.display as display\n",
    "from PIL import Image\n",
    "import pathlib"
   ]
  },
  {
   "cell_type": "markdown",
   "metadata": {
    "id": "htYEUxbrDZIU"
   },
   "source": [
    "## Applying ImageDataGenerator to training set"
   ]
  },
  {
   "cell_type": "code",
   "execution_count": 8,
   "metadata": {
    "colab": {
     "base_uri": "https://localhost:8080/"
    },
    "id": "7_B1zZLBDfeE",
    "outputId": "396d85c8-9019-40fd-dc01-aed1601834b9"
   },
   "outputs": [
    {
     "name": "stdout",
     "output_type": "stream",
     "text": [
      "Found 15750 images belonging to 9 classes.\n"
     ]
    }
   ],
   "source": [
    "x_train=train_datagen.flow_from_directory(r'C:\\Users\\admin\\Documents\\Nalayathiran\\Data Collection\\Train',target_size=(64,64),batch_size=200,\n",
    "                                          class_mode='categorical',color_mode=\"grayscale\")"
   ]
  },
  {
   "cell_type": "markdown",
   "metadata": {
    "id": "X3tBdsfQDzkq"
   },
   "source": [
    "Applying ImageDataGenerator to test set"
   ]
  },
  {
   "cell_type": "code",
   "execution_count": 9,
   "metadata": {
    "colab": {
     "base_uri": "https://localhost:8080/"
    },
    "id": "RU5A8Cn9D0t6",
    "outputId": "2216bf6b-14c8-4293-fcc8-4bbc0de66b58"
   },
   "outputs": [
    {
     "name": "stdout",
     "output_type": "stream",
     "text": [
      "Found 2250 images belonging to 9 classes.\n"
     ]
    }
   ],
   "source": [
    "x_test=test_datagen.flow_from_directory(r'C:\\Users\\admin\\Documents\\Nalayathiran\\Data Collection\\Test',target_size=(64,64),batch_size=200,\n",
    "                                          class_mode='categorical',color_mode=\"grayscale\")"
   ]
  },
  {
   "cell_type": "code",
   "execution_count": 10,
   "metadata": {
    "id": "iBwVSrF0D8-t"
   },
   "outputs": [],
   "source": [
    "a=len(x_train)\n",
    "b=len(x_test)"
   ]
  },
  {
   "cell_type": "markdown",
   "metadata": {
    "id": "DVXJoopgEBx8"
   },
   "source": [
    "## Length of training set"
   ]
  },
  {
   "cell_type": "code",
   "execution_count": 11,
   "metadata": {
    "colab": {
     "base_uri": "https://localhost:8080/"
    },
    "id": "0-fUh-ONEFzr",
    "outputId": "ef1137e0-ad3e-4d3f-a84c-fd288f528871"
   },
   "outputs": [
    {
     "name": "stdout",
     "output_type": "stream",
     "text": [
      "79\n"
     ]
    }
   ],
   "source": [
    "print(a)"
   ]
  },
  {
   "cell_type": "markdown",
   "metadata": {
    "id": "6qLHsIeqEPj2"
   },
   "source": [
    "## Length of test set"
   ]
  },
  {
   "cell_type": "code",
   "execution_count": 12,
   "metadata": {
    "colab": {
     "base_uri": "https://localhost:8080/"
    },
    "id": "9Qj1mq4VESuR",
    "outputId": "c17df37e-971d-4da5-d84d-53795734b3cc"
   },
   "outputs": [
    {
     "name": "stdout",
     "output_type": "stream",
     "text": [
      "12\n"
     ]
    }
   ],
   "source": [
    "print(b)"
   ]
  },
  {
   "cell_type": "markdown",
   "metadata": {
    "id": "aVjQFGl7EWi4"
   },
   "source": [
    "## Add Layers"
   ]
  },
  {
   "cell_type": "code",
   "execution_count": 13,
   "metadata": {
    "id": "4ejqiUQKEZ4u"
   },
   "outputs": [],
   "source": [
    "#create model\n",
    "model=Sequential()"
   ]
  },
  {
   "cell_type": "markdown",
   "metadata": {
    "id": "KBpWAyXaEmJq"
   },
   "source": [
    "## Add The Convolution Layer"
   ]
  },
  {
   "cell_type": "code",
   "execution_count": 14,
   "metadata": {
    "id": "p1zjnn8jEqjx"
   },
   "outputs": [],
   "source": [
    "model.add(Convolution2D(32,(3,3),input_shape=(64,64,1),activation='relu'))"
   ]
  },
  {
   "cell_type": "markdown",
   "metadata": {
    "id": "Lm5cuIgVEucf"
   },
   "source": [
    "## Add Pooling Layer"
   ]
  },
  {
   "cell_type": "code",
   "execution_count": 15,
   "metadata": {
    "id": "U6HGbDwTEyPn"
   },
   "outputs": [],
   "source": [
    "model.add(MaxPooling2D(pool_size=(2,2)))"
   ]
  },
  {
   "cell_type": "markdown",
   "metadata": {
    "id": "-9FCJKZSE2HT"
   },
   "source": [
    "## Add The Flatten Layer"
   ]
  },
  {
   "cell_type": "code",
   "execution_count": 16,
   "metadata": {
    "id": "QXfsVXGFE6RT"
   },
   "outputs": [],
   "source": [
    "model.add(Flatten())"
   ]
  },
  {
   "cell_type": "markdown",
   "metadata": {
    "id": "2mKA0-6aE-RB"
   },
   "source": [
    "## Adding The Dense Layers"
   ]
  },
  {
   "cell_type": "code",
   "execution_count": 17,
   "metadata": {
    "id": "bCra9b0IFD5Y"
   },
   "outputs": [],
   "source": [
    "#1st hidden layer\n",
    "model.add(Dense(units=512,activation='relu'))\n",
    "#2nd hidden layer\n",
    "model.add(Dense(units=261,activation='relu'))"
   ]
  },
  {
   "cell_type": "code",
   "execution_count": 18,
   "metadata": {
    "id": "lHbQJ5naFJNf"
   },
   "outputs": [],
   "source": [
    "#output layer\n",
    "model.add(Dense(units=9,activation='softmax'))"
   ]
  },
  {
   "cell_type": "markdown",
   "metadata": {
    "id": "r5dWNB8lFSMi"
   },
   "source": [
    "## Compile The Model"
   ]
  },
  {
   "cell_type": "code",
   "execution_count": 19,
   "metadata": {
    "id": "UsoSkH03FTiN"
   },
   "outputs": [],
   "source": [
    "model.compile(loss='categorical_crossentropy',optimizer='adam',metrics=['accuracy'])"
   ]
  },
  {
   "cell_type": "markdown",
   "metadata": {
    "id": "5UbtbKwyFXfp"
   },
   "source": [
    "## Fit The Mode"
   ]
  },
  {
   "cell_type": "code",
   "execution_count": 20,
   "metadata": {
    "colab": {
     "base_uri": "https://localhost:8080/"
    },
    "id": "68ni9TLnFcVP",
    "outputId": "faea2809-aa41-4a7e-b49d-405ac0a2e3d0"
   },
   "outputs": [
    {
     "name": "stderr",
     "output_type": "stream",
     "text": [
      "C:\\Users\\admin\\AppData\\Local\\Temp/ipykernel_22852/3557713858.py:1: UserWarning: `Model.fit_generator` is deprecated and will be removed in a future version. Please use `Model.fit`, which supports generators.\n",
      "  model.fit_generator(x_train,steps_per_epoch=len(x_train),epochs=10,validation_data=x_test,validation_steps=len(x_test))\n"
     ]
    },
    {
     "name": "stdout",
     "output_type": "stream",
     "text": [
      "Epoch 1/10\n",
      "79/79 [==============================] - 31s 386ms/step - loss: 0.4798 - accuracy: 0.8468 - val_loss: 0.2343 - val_accuracy: 0.9484\n",
      "Epoch 2/10\n",
      "79/79 [==============================] - 26s 331ms/step - loss: 0.0517 - accuracy: 0.9853 - val_loss: 0.1920 - val_accuracy: 0.9742\n",
      "Epoch 3/10\n",
      "79/79 [==============================] - 28s 348ms/step - loss: 0.0186 - accuracy: 0.9955 - val_loss: 0.1873 - val_accuracy: 0.9716\n",
      "Epoch 4/10\n",
      "79/79 [==============================] - 29s 366ms/step - loss: 0.0121 - accuracy: 0.9969 - val_loss: 0.1658 - val_accuracy: 0.9778\n",
      "Epoch 5/10\n",
      "79/79 [==============================] - 28s 359ms/step - loss: 0.0085 - accuracy: 0.9980 - val_loss: 0.2077 - val_accuracy: 0.9769\n",
      "Epoch 6/10\n",
      "79/79 [==============================] - 26s 324ms/step - loss: 0.0069 - accuracy: 0.9980 - val_loss: 0.2306 - val_accuracy: 0.9769\n",
      "Epoch 7/10\n",
      "79/79 [==============================] - 26s 322ms/step - loss: 0.0052 - accuracy: 0.9986 - val_loss: 0.2584 - val_accuracy: 0.9756\n",
      "Epoch 8/10\n",
      "79/79 [==============================] - 26s 324ms/step - loss: 0.0049 - accuracy: 0.9988 - val_loss: 0.3030 - val_accuracy: 0.9693\n",
      "Epoch 9/10\n",
      "79/79 [==============================] - 26s 323ms/step - loss: 0.0034 - accuracy: 0.9990 - val_loss: 0.3168 - val_accuracy: 0.9760\n",
      "Epoch 10/10\n",
      "79/79 [==============================] - 25s 321ms/step - loss: 0.0039 - accuracy: 0.9986 - val_loss: 0.3025 - val_accuracy: 0.9760\n"
     ]
    },
    {
     "data": {
      "text/plain": [
       "<keras.callbacks.History at 0x27649f352e0>"
      ]
     },
     "execution_count": 20,
     "metadata": {},
     "output_type": "execute_result"
    }
   ],
   "source": [
    "model.fit_generator(x_train,steps_per_epoch=len(x_train),epochs=10,validation_data=x_test,validation_steps=len(x_test))\n"
   ]
  },
  {
   "cell_type": "markdown",
   "metadata": {
    "id": "-tk-72PvKitz"
   },
   "source": [
    "## Save The Model"
   ]
  },
  {
   "cell_type": "code",
   "execution_count": 21,
   "metadata": {
    "id": "2mBK85OHKkMh"
   },
   "outputs": [],
   "source": [
    "model.save('asl_model.h5')"
   ]
  },
  {
   "cell_type": "markdown",
   "metadata": {
    "id": "I6tK7sVrKoYs"
   },
   "source": [
    "## Import The Packages And Load The Saved Model"
   ]
  },
  {
   "cell_type": "code",
   "execution_count": 22,
   "metadata": {
    "id": "1pak-_62K5xw"
   },
   "outputs": [],
   "source": [
    "from tensorflow.keras.models import load_model\n",
    "import numpy as np\n",
    "import cv2\n",
    "from tensorflow.keras.preprocessing import image"
   ]
  },
  {
   "cell_type": "code",
   "execution_count": 23,
   "metadata": {
    "id": "dmRQ8b7FLB8a"
   },
   "outputs": [],
   "source": [
    "#load the model\n",
    "model=load_model('asl_model.h5')"
   ]
  },
  {
   "cell_type": "code",
   "execution_count": 25,
   "metadata": {
    "colab": {
     "base_uri": "https://localhost:8080/",
     "height": 417
    },
    "id": "BCVEJUUTLErw",
    "outputId": "a14d5040-2034-4b2e-d22e-953e0c4de3e2"
   },
   "outputs": [
    {
     "data": {
      "image/png": "[encoded data removed]",
      "text/plain": [
       "<PIL.Image.Image image mode=RGB size=500x400 at 0x2764EC70730>"
      ]
     },
     "execution_count": 25,
     "metadata": {},
     "output_type": "execute_result"
    }
   ],
   "source": [
    "img=image.load_img(r'C:\\Users\\admin\\Documents\\Nalayathiran\\Data Collection\\Test/A/10.png',target_size=(400,500))\n",
    "img\n"
   ]
  }
 ],
 "metadata": {
  "colab": {
   "provenance": []
  },
  "kernelspec": {
   "display_name": "Python 3 (ipykernel)",
   "language": "python",
   "name": "python3"
  },
  "language_info": {
   "codemirror_mode": {
    "name": "ipython",
    "version": 3
   },
   "file_extension": ".py",
   "mimetype": "text/x-python",
   "name": "python",
   "nbconvert_exporter": "python",
   "pygments_lexer": "ipython3",
   "version": "3.9.7"
  }
 },
 "nbformat": 4,
 "nbformat_minor": 1
}
